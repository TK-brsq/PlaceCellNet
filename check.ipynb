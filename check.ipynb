{
 "cells": [
  {
   "cell_type": "code",
   "execution_count": 4,
   "id": "50b0493d",
   "metadata": {},
   "outputs": [
    {
     "name": "stdout",
     "output_type": "stream",
     "text": [
      "[[0.73768479 0.23227503 0.48982605 0.03258436]\n",
      " [0.50483371 0.30430349 0.05123884 0.57264763]\n",
      " [0.06328009 0.30736394 0.70267412 0.28469173]\n",
      " [0.93905372 0.02522636 0.14367384 0.19778432]\n",
      " [0.78011683 0.66315907 0.93924679 0.99352715]]\n",
      "[[0.66391631 0.30904753 0.54084345 0.02932592]\n",
      " [0.40386697 0.44344279 0.24099107 0.45811811]\n",
      " [0.03796805 0.58441836 0.82160447 0.17081504]\n",
      " [0.75124297 0.22018109 0.31493907 0.15822746]\n",
      " [0.70210514 0.69684316 0.94532211 0.89417444]]\n"
     ]
    }
   ],
   "source": [
    "import numpy as np\n",
    "\n",
    "W = np.random.random((5, 4))\n",
    "print(W)\n",
    "infl = np.array([0.1, 0.2, 0.4, 0.2, 0.1])\n",
    "input = np.array([0, 1, 1, 0])\n",
    "W += infl[:, np.newaxis] * (input - W)\n",
    "print(W)"
   ]
  }
 ],
 "metadata": {
  "kernelspec": {
   "display_name": "base",
   "language": "python",
   "name": "python3"
  },
  "language_info": {
   "codemirror_mode": {
    "name": "ipython",
    "version": 3
   },
   "file_extension": ".py",
   "mimetype": "text/x-python",
   "name": "python",
   "nbconvert_exporter": "python",
   "pygments_lexer": "ipython3",
   "version": "3.10.9"
  }
 },
 "nbformat": 4,
 "nbformat_minor": 5
}
